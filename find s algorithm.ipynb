{
 "cells": [
  {
   "cell_type": "code",
   "execution_count": 4,
   "id": "a5fef911",
   "metadata": {},
   "outputs": [
    {
     "name": "stdout",
     "output_type": "stream",
     "text": [
      "initial hypothesis :  ['0', '0', '0', '0', '0', '0']\n",
      "data given is : \n",
      "['Day ', 'sky', 'airtemp', 'wind', 'water', 'forecast', 'enjoysport']\n",
      "['1', 'sunny', 'warm', 'normal', 'warm', 'same', 'yes']\n",
      "['2', 'sunny', 'warm', 'high', 'warm', 'same', 'yes']\n",
      "['3', 'rainy', 'cold', 'high', 'warm', 'change', 'yes']\n",
      "['4', 'sunny', 'warm', 'high', 'warm', 'change', 'yes']\n",
      "Final hypothesis is (most specific) :  ['?', '?', '?', '?', 'warm', '?']\n"
     ]
    }
   ],
   "source": [
    "import csv\n",
    "\n",
    "file=open(\"enjoysport.csv\")\n",
    "data=list(csv.reader(file))\n",
    "length=len(data[0])-1\n",
    "h=['0']*length\n",
    "print(\"initial hypothesis : \",h)\n",
    "print(\"data given is : \")\n",
    "for i in data:\n",
    "    print(i)\n",
    "data.pop(0)\n",
    "for i in range(len(data)):\n",
    "    if data[i][length]=='yes':\n",
    "        for j in range(len(data[i])-1):\n",
    "            if h[j]=='0':\n",
    "                h[j]=data[i][j]\n",
    "            if h[j]!=data[i][j]:\n",
    "                h[j]='?'\n",
    "print(\"Final hypothesis is (most specific) : \",h)\n"
   ]
  },
  {
   "cell_type": "code",
   "execution_count": 7,
   "id": "59108eac",
   "metadata": {},
   "outputs": [
    {
     "name": "stdout",
     "output_type": "stream",
     "text": [
      "initial hypothesis :  ['0', '0', '0', '0', '0', '0', '0']\n",
      "data given is : \n",
      "['Day ', 'sky', 'airtemp', 'humidity', 'wind', 'water', 'forecast', 'enjoysport']\n",
      "['1', 'sunny', 'warm', 'normal', 'Strong', 'warm', 'same', 'yes']\n",
      "['2', 'sunny', 'warm', 'high', 'Strong', 'warm', 'same', 'yes']\n",
      "['3', 'rainy', 'cold', 'high', 'Strong', 'warm', 'change', 'yes']\n",
      "['4', 'sunny', 'warm', 'high', 'Strong', 'cool', 'change', 'yes']\n",
      "Final hypothesis is (most specific) :  ['?', '?', '?', '?', 'Strong', '?', '?']\n"
     ]
    }
   ],
   "source": [
    "import csv\n",
    "\n",
    "file=open(\"enjoysport.csv\")\n",
    "data=list(csv.reader(file))\n",
    "length=len(data[0])-1\n",
    "h=['0']*length\n",
    "print(\"initial hypothesis : \",h)\n",
    "print(\"data given is : \")\n",
    "for i in data:\n",
    "    print(i)\n",
    "data.pop(0)\n",
    "for i in range(len(data)):\n",
    "    if data[i][length]=='yes':\n",
    "        for j in range(len(data[i])-1):\n",
    "            if h[j]=='0':\n",
    "                h[j]=data[i][j]\n",
    "            if h[j]!=data[i][j]:\n",
    "                h[j]='?'\n",
    "print(\"Final hypothesis is (most specific) : \",h)\n"
   ]
  },
  {
   "cell_type": "code",
   "execution_count": 8,
   "id": "67ea572a",
   "metadata": {},
   "outputs": [
    {
     "name": "stdout",
     "output_type": "stream",
     "text": [
      "initial hypothesis :  ['0', '0', '0', '0', '0', '0', '0']\n",
      "data given is : \n",
      "['Day ', 'sky', 'airtemp', 'humidity', 'wind', 'water', 'forecast', 'enjoysport']\n",
      "['1', 'sunny', 'warm', 'normal', 'Strong', 'warm', 'same', 'yes']\n",
      "['2', 'sunny', 'warm', 'high', 'Strong', 'warm', 'same', 'yes']\n",
      "['3', 'rainy', 'cold', 'high', 'Strong', 'warm', 'change', 'no']\n",
      "['4', 'sunny', 'warm', 'high', 'Strong', 'cool', 'change', 'yes']\n",
      "Final hypothesis is (most specific) :  ['?', 'sunny', 'warm', '?', 'Strong', '?', '?']\n"
     ]
    }
   ],
   "source": [
    "import csv\n",
    "\n",
    "file=open(\"enjoysport.csv\")\n",
    "data=list(csv.reader(file))\n",
    "length=len(data[0])-1\n",
    "h=['0']*length\n",
    "print(\"initial hypothesis : \",h)\n",
    "print(\"data given is : \")\n",
    "for i in data:\n",
    "    print(i)\n",
    "data.pop(0)\n",
    "for i in range(len(data)):\n",
    "    if data[i][length]=='yes':\n",
    "        for j in range(len(data[i])-1):\n",
    "            if h[j]=='0':\n",
    "                h[j]=data[i][j]\n",
    "            if h[j]!=data[i][j]:\n",
    "                h[j]='?'\n",
    "print(\"Final hypothesis is (most specific) : \",h)"
   ]
  },
  {
   "cell_type": "code",
   "execution_count": 9,
   "id": "0101afca",
   "metadata": {},
   "outputs": [
    {
     "name": "stdout",
     "output_type": "stream",
     "text": [
      "initial hypothesis :  ['0', '0', '0', '0', '0', '0']\n",
      "data given is : \n",
      "['sky', 'airtemp', 'humidity', 'wind', 'water', 'forecast', 'enjoysport']\n",
      "['sunny', 'warm', 'normal', 'Strong', 'warm', 'same', 'yes']\n",
      "['sunny', 'warm', 'high', 'Strong', 'warm', 'same', 'yes']\n",
      "['rainy', 'cold', 'high', 'Strong', 'warm', 'change', 'no']\n",
      "['sunny', 'warm', 'high', 'Strong', 'cool', 'change', 'yes']\n",
      "Final hypothesis is (most specific) :  ['sunny', 'warm', '?', 'Strong', '?', '?']\n"
     ]
    }
   ],
   "source": [
    "import csv\n",
    "\n",
    "file=open(\"enjoysport.csv\")\n",
    "data=list(csv.reader(file))\n",
    "length=len(data[0])-1\n",
    "h=['0']*length\n",
    "print(\"initial hypothesis : \",h)\n",
    "print(\"data given is : \")\n",
    "for i in data:\n",
    "    print(i)\n",
    "data.pop(0)\n",
    "for i in range(len(data)):\n",
    "    if data[i][length]=='yes':\n",
    "        for j in range(len(data[i])-1):\n",
    "            if h[j]=='0':\n",
    "                h[j]=data[i][j]\n",
    "            if h[j]!=data[i][j]:\n",
    "                h[j]='?'\n",
    "print(\"Final hypothesis is (most specific) : \",h)\n"
   ]
  },
  {
   "cell_type": "code",
   "execution_count": null,
   "id": "cc3af3da",
   "metadata": {},
   "outputs": [],
   "source": []
  }
 ],
 "metadata": {
  "kernelspec": {
   "display_name": "Python 3 (ipykernel)",
   "language": "python",
   "name": "python3"
  },
  "language_info": {
   "codemirror_mode": {
    "name": "ipython",
    "version": 3
   },
   "file_extension": ".py",
   "mimetype": "text/x-python",
   "name": "python",
   "nbconvert_exporter": "python",
   "pygments_lexer": "ipython3",
   "version": "3.9.7"
  }
 },
 "nbformat": 4,
 "nbformat_minor": 5
}
